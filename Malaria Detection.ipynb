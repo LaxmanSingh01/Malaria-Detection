{
 "cells": [
  {
   "cell_type": "code",
   "execution_count": 1,
   "metadata": {
    "colab": {
     "base_uri": "https://localhost:8080/"
    },
    "executionInfo": {
     "elapsed": 4126,
     "status": "ok",
     "timestamp": 1635575936311,
     "user": {
      "displayName": "laxman singh",
      "photoUrl": "https://lh3.googleusercontent.com/a-/AOh14GguTe6RzHn_U3fJiBvOUKqS-pIAECOWzntUrI3x=s64",
      "userId": "17465126926677917374"
     },
     "user_tz": -330
    },
    "id": "2da9QHtuu0Kj",
    "outputId": "ac2abb9a-79ff-481f-8cd3-71edce0ec293"
   },
   "outputs": [
    {
     "name": "stdout",
     "output_type": "stream",
     "text": [
      "Requirement already satisfied: tensorflow in c:\\users\\laxman singh\\desktop\\extra material\\new folder\\lib\\site-packages (2.5.0)\n",
      "Requirement already satisfied: protobuf>=3.9.2 in c:\\users\\laxman singh\\desktop\\extra material\\new folder\\lib\\site-packages (from tensorflow) (3.17.3)\n",
      "Requirement already satisfied: absl-py~=0.10 in c:\\users\\laxman singh\\desktop\\extra material\\new folder\\lib\\site-packages (from tensorflow) (0.13.0)\n",
      "Requirement already satisfied: tensorflow-estimator<2.6.0,>=2.5.0rc0 in c:\\users\\laxman singh\\desktop\\extra material\\new folder\\lib\\site-packages (from tensorflow) (2.5.0)\n",
      "Requirement already satisfied: gast==0.4.0 in c:\\users\\laxman singh\\desktop\\extra material\\new folder\\lib\\site-packages (from tensorflow) (0.4.0)\n",
      "Requirement already satisfied: grpcio~=1.34.0 in c:\\users\\laxman singh\\desktop\\extra material\\new folder\\lib\\site-packages (from tensorflow) (1.34.1)\n",
      "Requirement already satisfied: six~=1.15.0 in c:\\users\\laxman singh\\desktop\\extra material\\new folder\\lib\\site-packages (from tensorflow) (1.15.0)\n",
      "Requirement already satisfied: typing-extensions~=3.7.4 in c:\\users\\laxman singh\\desktop\\extra material\\new folder\\lib\\site-packages (from tensorflow) (3.7.4.3)\n",
      "Requirement already satisfied: wrapt~=1.12.1 in c:\\users\\laxman singh\\desktop\\extra material\\new folder\\lib\\site-packages (from tensorflow) (1.12.1)\n",
      "Requirement already satisfied: astunparse~=1.6.3 in c:\\users\\laxman singh\\desktop\\extra material\\new folder\\lib\\site-packages (from tensorflow) (1.6.3)\n",
      "Requirement already satisfied: termcolor~=1.1.0 in c:\\users\\laxman singh\\desktop\\extra material\\new folder\\lib\\site-packages (from tensorflow) (1.1.0)\n",
      "Requirement already satisfied: google-pasta~=0.2 in c:\\users\\laxman singh\\desktop\\extra material\\new folder\\lib\\site-packages (from tensorflow) (0.2.0)\n",
      "Requirement already satisfied: flatbuffers~=1.12.0 in c:\\users\\laxman singh\\desktop\\extra material\\new folder\\lib\\site-packages (from tensorflow) (1.12)\n",
      "Requirement already satisfied: h5py~=3.1.0 in c:\\users\\laxman singh\\desktop\\extra material\\new folder\\lib\\site-packages (from tensorflow) (3.1.0)\n",
      "Requirement already satisfied: wheel~=0.35 in c:\\users\\laxman singh\\desktop\\extra material\\new folder\\lib\\site-packages (from tensorflow) (0.36.2)\n",
      "Requirement already satisfied: tensorboard~=2.5 in c:\\users\\laxman singh\\desktop\\extra material\\new folder\\lib\\site-packages (from tensorflow) (2.5.0)\n",
      "Requirement already satisfied: keras-preprocessing~=1.1.2 in c:\\users\\laxman singh\\desktop\\extra material\\new folder\\lib\\site-packages (from tensorflow) (1.1.2)\n",
      "Requirement already satisfied: opt-einsum~=3.3.0 in c:\\users\\laxman singh\\desktop\\extra material\\new folder\\lib\\site-packages (from tensorflow) (3.3.0)\n",
      "Requirement already satisfied: keras-nightly~=2.5.0.dev in c:\\users\\laxman singh\\desktop\\extra material\\new folder\\lib\\site-packages (from tensorflow) (2.5.0.dev2021032900)\n",
      "Requirement already satisfied: numpy~=1.19.2 in c:\\users\\laxman singh\\desktop\\extra material\\new folder\\lib\\site-packages (from tensorflow) (1.19.5)\n",
      "Requirement already satisfied: google-auth<2,>=1.6.3 in c:\\users\\laxman singh\\desktop\\extra material\\new folder\\lib\\site-packages (from tensorboard~=2.5->tensorflow) (1.32.0)\n",
      "Requirement already satisfied: requests<3,>=2.21.0 in c:\\users\\laxman singh\\desktop\\extra material\\new folder\\lib\\site-packages (from tensorboard~=2.5->tensorflow) (2.25.1)\n",
      "Requirement already satisfied: google-auth-oauthlib<0.5,>=0.4.1 in c:\\users\\laxman singh\\desktop\\extra material\\new folder\\lib\\site-packages (from tensorboard~=2.5->tensorflow) (0.4.4)\n",
      "Requirement already satisfied: tensorboard-data-server<0.7.0,>=0.6.0 in c:\\users\\laxman singh\\desktop\\extra material\\new folder\\lib\\site-packages (from tensorboard~=2.5->tensorflow) (0.6.1)\n",
      "Requirement already satisfied: setuptools>=41.0.0 in c:\\users\\laxman singh\\desktop\\extra material\\new folder\\lib\\site-packages (from tensorboard~=2.5->tensorflow) (57.4.0)\n",
      "Requirement already satisfied: tensorboard-plugin-wit>=1.6.0 in c:\\users\\laxman singh\\desktop\\extra material\\new folder\\lib\\site-packages (from tensorboard~=2.5->tensorflow) (1.8.0)\n",
      "Requirement already satisfied: werkzeug>=0.11.15 in c:\\users\\laxman singh\\desktop\\extra material\\new folder\\lib\\site-packages (from tensorboard~=2.5->tensorflow) (2.0.1)\n",
      "Requirement already satisfied: markdown>=2.6.8 in c:\\users\\laxman singh\\desktop\\extra material\\new folder\\lib\\site-packages (from tensorboard~=2.5->tensorflow) (3.3.4)\n",
      "Requirement already satisfied: cachetools<5.0,>=2.0.0 in c:\\users\\laxman singh\\desktop\\extra material\\new folder\\lib\\site-packages (from google-auth<2,>=1.6.3->tensorboard~=2.5->tensorflow) (4.2.2)\n",
      "Requirement already satisfied: pyasn1-modules>=0.2.1 in c:\\users\\laxman singh\\desktop\\extra material\\new folder\\lib\\site-packages (from google-auth<2,>=1.6.3->tensorboard~=2.5->tensorflow) (0.2.8)\n",
      "Requirement already satisfied: rsa<5,>=3.1.4 in c:\\users\\laxman singh\\desktop\\extra material\\new folder\\lib\\site-packages (from google-auth<2,>=1.6.3->tensorboard~=2.5->tensorflow) (4.7.2)\n",
      "Requirement already satisfied: requests-oauthlib>=0.7.0 in c:\\users\\laxman singh\\desktop\\extra material\\new folder\\lib\\site-packages (from google-auth-oauthlib<0.5,>=0.4.1->tensorboard~=2.5->tensorflow) (1.3.0)\n",
      "Requirement already satisfied: pyasn1<0.5.0,>=0.4.6 in c:\\users\\laxman singh\\desktop\\extra material\\new folder\\lib\\site-packages (from pyasn1-modules>=0.2.1->google-auth<2,>=1.6.3->tensorboard~=2.5->tensorflow) (0.4.8)\n",
      "Requirement already satisfied: certifi>=2017.4.17 in c:\\users\\laxman singh\\desktop\\extra material\\new folder\\lib\\site-packages (from requests<3,>=2.21.0->tensorboard~=2.5->tensorflow) (2021.5.30)\n",
      "Requirement already satisfied: chardet<5,>=3.0.2 in c:\\users\\laxman singh\\desktop\\extra material\\new folder\\lib\\site-packages (from requests<3,>=2.21.0->tensorboard~=2.5->tensorflow) (4.0.0)\n",
      "Requirement already satisfied: urllib3<1.27,>=1.21.1 in c:\\users\\laxman singh\\desktop\\extra material\\new folder\\lib\\site-packages (from requests<3,>=2.21.0->tensorboard~=2.5->tensorflow) (1.26.5)\n",
      "Requirement already satisfied: idna<3,>=2.5 in c:\\users\\laxman singh\\desktop\\extra material\\new folder\\lib\\site-packages (from requests<3,>=2.21.0->tensorboard~=2.5->tensorflow) (2.10)\n",
      "Requirement already satisfied: oauthlib>=3.0.0 in c:\\users\\laxman singh\\desktop\\extra material\\new folder\\lib\\site-packages (from requests-oauthlib>=0.7.0->google-auth-oauthlib<0.5,>=0.4.1->tensorboard~=2.5->tensorflow) (3.1.1)\n"
     ]
    },
    {
     "name": "stderr",
     "output_type": "stream",
     "text": [
      "WARNING: You are using pip version 21.2.4; however, version 21.3.1 is available.\n",
      "You should consider upgrading via the 'c:\\users\\laxman singh\\desktop\\extra material\\new folder\\python.exe -m pip install --upgrade pip' command.\n"
     ]
    }
   ],
   "source": [
    "!pip install tensorflow"
   ]
  },
  {
   "cell_type": "code",
   "execution_count": 2,
   "metadata": {
    "executionInfo": {
     "elapsed": 1680,
     "status": "ok",
     "timestamp": 1635575937987,
     "user": {
      "displayName": "laxman singh",
      "photoUrl": "https://lh3.googleusercontent.com/a-/AOh14GguTe6RzHn_U3fJiBvOUKqS-pIAECOWzntUrI3x=s64",
      "userId": "17465126926677917374"
     },
     "user_tz": -330
    },
    "id": "6vH6Ef2LxIyW"
   },
   "outputs": [],
   "source": [
    "from tensorflow.keras.layers import Dense,Flatten,Input,Lambda\n",
    "from tensorflow.keras.preprocessing import image\n",
    "from tensorflow.keras.models import Sequential,Model\n",
    "from tensorflow.keras.applications.vgg19 import VGG19\n",
    "from tensorflow.keras.preprocessing.image import ImageDataGenerator,load_img\n",
    "import numpy as np\n",
    "from glob import glob\n",
    "import matplotlib.pyplot as plt"
   ]
  },
  {
   "cell_type": "code",
   "execution_count": 3,
   "metadata": {
    "executionInfo": {
     "elapsed": 7,
     "status": "ok",
     "timestamp": 1635575937988,
     "user": {
      "displayName": "laxman singh",
      "photoUrl": "https://lh3.googleusercontent.com/a-/AOh14GguTe6RzHn_U3fJiBvOUKqS-pIAECOWzntUrI3x=s64",
      "userId": "17465126926677917374"
     },
     "user_tz": -330
    },
    "id": "w1Ib1jCEytrE"
   },
   "outputs": [],
   "source": [
    "train_path='Dataset/Train'\n",
    "test_path='Dataset/Test'"
   ]
  },
  {
   "cell_type": "code",
   "execution_count": 4,
   "metadata": {
    "executionInfo": {
     "elapsed": 9,
     "status": "ok",
     "timestamp": 1635575937991,
     "user": {
      "displayName": "laxman singh",
      "photoUrl": "https://lh3.googleusercontent.com/a-/AOh14GguTe6RzHn_U3fJiBvOUKqS-pIAECOWzntUrI3x=s64",
      "userId": "17465126926677917374"
     },
     "user_tz": -330
    },
    "id": "Ej5-cG5TzU6d"
   },
   "outputs": [],
   "source": [
    "IMAGE_SIZE=[224,224]"
   ]
  },
  {
   "cell_type": "code",
   "execution_count": 5,
   "metadata": {
    "executionInfo": {
     "elapsed": 976,
     "status": "ok",
     "timestamp": 1635575938959,
     "user": {
      "displayName": "laxman singh",
      "photoUrl": "https://lh3.googleusercontent.com/a-/AOh14GguTe6RzHn_U3fJiBvOUKqS-pIAECOWzntUrI3x=s64",
      "userId": "17465126926677917374"
     },
     "user_tz": -330
    },
    "id": "yJ4TGBQPzCOl"
   },
   "outputs": [],
   "source": [
    "vgg=VGG19(input_shape=IMAGE_SIZE + [3], weights='imagenet', include_top=False)"
   ]
  },
  {
   "cell_type": "code",
   "execution_count": 6,
   "metadata": {
    "executionInfo": {
     "elapsed": 20,
     "status": "ok",
     "timestamp": 1635575938962,
     "user": {
      "displayName": "laxman singh",
      "photoUrl": "https://lh3.googleusercontent.com/a-/AOh14GguTe6RzHn_U3fJiBvOUKqS-pIAECOWzntUrI3x=s64",
      "userId": "17465126926677917374"
     },
     "user_tz": -330
    },
    "id": "-VyWuY28zco6"
   },
   "outputs": [],
   "source": [
    "for layer in vgg.layers:\n",
    "  layer.trainable=False"
   ]
  },
  {
   "cell_type": "code",
   "execution_count": 7,
   "metadata": {
    "executionInfo": {
     "elapsed": 20,
     "status": "ok",
     "timestamp": 1635575938963,
     "user": {
      "displayName": "laxman singh",
      "photoUrl": "https://lh3.googleusercontent.com/a-/AOh14GguTe6RzHn_U3fJiBvOUKqS-pIAECOWzntUrI3x=s64",
      "userId": "17465126926677917374"
     },
     "user_tz": -330
    },
    "id": "nels_qV1zzGi"
   },
   "outputs": [],
   "source": [
    "folders = glob('Dataset/Train/*')"
   ]
  },
  {
   "cell_type": "code",
   "execution_count": 8,
   "metadata": {
    "colab": {
     "base_uri": "https://localhost:8080/"
    },
    "executionInfo": {
     "elapsed": 19,
     "status": "ok",
     "timestamp": 1635575938964,
     "user": {
      "displayName": "laxman singh",
      "photoUrl": "https://lh3.googleusercontent.com/a-/AOh14GguTe6RzHn_U3fJiBvOUKqS-pIAECOWzntUrI3x=s64",
      "userId": "17465126926677917374"
     },
     "user_tz": -330
    },
    "id": "70NMTjOG0CVh",
    "outputId": "094783f4-5297-429f-99a3-27e60a98e476"
   },
   "outputs": [
    {
     "data": {
      "text/plain": [
       "2"
      ]
     },
     "execution_count": 8,
     "metadata": {},
     "output_type": "execute_result"
    }
   ],
   "source": [
    "len(folders)"
   ]
  },
  {
   "cell_type": "code",
   "execution_count": 9,
   "metadata": {
    "executionInfo": {
     "elapsed": 17,
     "status": "ok",
     "timestamp": 1635575938965,
     "user": {
      "displayName": "laxman singh",
      "photoUrl": "https://lh3.googleusercontent.com/a-/AOh14GguTe6RzHn_U3fJiBvOUKqS-pIAECOWzntUrI3x=s64",
      "userId": "17465126926677917374"
     },
     "user_tz": -330
    },
    "id": "0TKgYH-H0Mlh"
   },
   "outputs": [],
   "source": [
    "x=Flatten()(vgg.output)"
   ]
  },
  {
   "cell_type": "code",
   "execution_count": 10,
   "metadata": {
    "executionInfo": {
     "elapsed": 16,
     "status": "ok",
     "timestamp": 1635575938965,
     "user": {
      "displayName": "laxman singh",
      "photoUrl": "https://lh3.googleusercontent.com/a-/AOh14GguTe6RzHn_U3fJiBvOUKqS-pIAECOWzntUrI3x=s64",
      "userId": "17465126926677917374"
     },
     "user_tz": -330
    },
    "id": "AOF-6nLO0bGP"
   },
   "outputs": [],
   "source": [
    "prediction=Dense(len(folders), activation='softmax')(x)"
   ]
  },
  {
   "cell_type": "code",
   "execution_count": 11,
   "metadata": {
    "executionInfo": {
     "elapsed": 16,
     "status": "ok",
     "timestamp": 1635575938966,
     "user": {
      "displayName": "laxman singh",
      "photoUrl": "https://lh3.googleusercontent.com/a-/AOh14GguTe6RzHn_U3fJiBvOUKqS-pIAECOWzntUrI3x=s64",
      "userId": "17465126926677917374"
     },
     "user_tz": -330
    },
    "id": "0-AXWR110qdV"
   },
   "outputs": [],
   "source": [
    "model = Model(inputs=vgg.input, outputs=prediction)"
   ]
  },
  {
   "cell_type": "code",
   "execution_count": 12,
   "metadata": {
    "colab": {
     "base_uri": "https://localhost:8080/"
    },
    "executionInfo": {
     "elapsed": 17,
     "status": "ok",
     "timestamp": 1635575938967,
     "user": {
      "displayName": "laxman singh",
      "photoUrl": "https://lh3.googleusercontent.com/a-/AOh14GguTe6RzHn_U3fJiBvOUKqS-pIAECOWzntUrI3x=s64",
      "userId": "17465126926677917374"
     },
     "user_tz": -330
    },
    "id": "dvnML8aR0yWK",
    "outputId": "e57ffaf1-06eb-4ced-9e1c-c25fce2abb57"
   },
   "outputs": [
    {
     "name": "stdout",
     "output_type": "stream",
     "text": [
      "Model: \"model\"\n",
      "_________________________________________________________________\n",
      "Layer (type)                 Output Shape              Param #   \n",
      "=================================================================\n",
      "input_1 (InputLayer)         [(None, 224, 224, 3)]     0         \n",
      "_________________________________________________________________\n",
      "block1_conv1 (Conv2D)        (None, 224, 224, 64)      1792      \n",
      "_________________________________________________________________\n",
      "block1_conv2 (Conv2D)        (None, 224, 224, 64)      36928     \n",
      "_________________________________________________________________\n",
      "block1_pool (MaxPooling2D)   (None, 112, 112, 64)      0         \n",
      "_________________________________________________________________\n",
      "block2_conv1 (Conv2D)        (None, 112, 112, 128)     73856     \n",
      "_________________________________________________________________\n",
      "block2_conv2 (Conv2D)        (None, 112, 112, 128)     147584    \n",
      "_________________________________________________________________\n",
      "block2_pool (MaxPooling2D)   (None, 56, 56, 128)       0         \n",
      "_________________________________________________________________\n",
      "block3_conv1 (Conv2D)        (None, 56, 56, 256)       295168    \n",
      "_________________________________________________________________\n",
      "block3_conv2 (Conv2D)        (None, 56, 56, 256)       590080    \n",
      "_________________________________________________________________\n",
      "block3_conv3 (Conv2D)        (None, 56, 56, 256)       590080    \n",
      "_________________________________________________________________\n",
      "block3_conv4 (Conv2D)        (None, 56, 56, 256)       590080    \n",
      "_________________________________________________________________\n",
      "block3_pool (MaxPooling2D)   (None, 28, 28, 256)       0         \n",
      "_________________________________________________________________\n",
      "block4_conv1 (Conv2D)        (None, 28, 28, 512)       1180160   \n",
      "_________________________________________________________________\n",
      "block4_conv2 (Conv2D)        (None, 28, 28, 512)       2359808   \n",
      "_________________________________________________________________\n",
      "block4_conv3 (Conv2D)        (None, 28, 28, 512)       2359808   \n",
      "_________________________________________________________________\n",
      "block4_conv4 (Conv2D)        (None, 28, 28, 512)       2359808   \n",
      "_________________________________________________________________\n",
      "block4_pool (MaxPooling2D)   (None, 14, 14, 512)       0         \n",
      "_________________________________________________________________\n",
      "block5_conv1 (Conv2D)        (None, 14, 14, 512)       2359808   \n",
      "_________________________________________________________________\n",
      "block5_conv2 (Conv2D)        (None, 14, 14, 512)       2359808   \n",
      "_________________________________________________________________\n",
      "block5_conv3 (Conv2D)        (None, 14, 14, 512)       2359808   \n",
      "_________________________________________________________________\n",
      "block5_conv4 (Conv2D)        (None, 14, 14, 512)       2359808   \n",
      "_________________________________________________________________\n",
      "block5_pool (MaxPooling2D)   (None, 7, 7, 512)         0         \n",
      "_________________________________________________________________\n",
      "flatten (Flatten)            (None, 25088)             0         \n",
      "_________________________________________________________________\n",
      "dense (Dense)                (None, 2)                 50178     \n",
      "=================================================================\n",
      "Total params: 20,074,562\n",
      "Trainable params: 50,178\n",
      "Non-trainable params: 20,024,384\n",
      "_________________________________________________________________\n"
     ]
    }
   ],
   "source": [
    "model.summary()"
   ]
  },
  {
   "cell_type": "code",
   "execution_count": 13,
   "metadata": {
    "executionInfo": {
     "elapsed": 14,
     "status": "ok",
     "timestamp": 1635575938967,
     "user": {
      "displayName": "laxman singh",
      "photoUrl": "https://lh3.googleusercontent.com/a-/AOh14GguTe6RzHn_U3fJiBvOUKqS-pIAECOWzntUrI3x=s64",
      "userId": "17465126926677917374"
     },
     "user_tz": -330
    },
    "id": "HqdnVgQz0z3V"
   },
   "outputs": [],
   "source": [
    "model.compile(\n",
    "  loss='categorical_crossentropy',\n",
    "  optimizer='adam',\n",
    "  metrics=['accuracy']\n",
    ")"
   ]
  },
  {
   "cell_type": "code",
   "execution_count": 14,
   "metadata": {
    "executionInfo": {
     "elapsed": 15,
     "status": "ok",
     "timestamp": 1635575938968,
     "user": {
      "displayName": "laxman singh",
      "photoUrl": "https://lh3.googleusercontent.com/a-/AOh14GguTe6RzHn_U3fJiBvOUKqS-pIAECOWzntUrI3x=s64",
      "userId": "17465126926677917374"
     },
     "user_tz": -330
    },
    "id": "VFBRjw8K1HU3"
   },
   "outputs": [],
   "source": [
    "train_datagen = ImageDataGenerator(rescale = 1./255,\n",
    "                                   shear_range = 0.2,\n",
    "                                   zoom_range = 0.2,\n",
    "                                   horizontal_flip = True)\n",
    "\n",
    "test_datagen = ImageDataGenerator(rescale = 1./255)"
   ]
  },
  {
   "cell_type": "code",
   "execution_count": 15,
   "metadata": {
    "colab": {
     "base_uri": "https://localhost:8080/"
    },
    "executionInfo": {
     "elapsed": 736,
     "status": "ok",
     "timestamp": 1635575939690,
     "user": {
      "displayName": "laxman singh",
      "photoUrl": "https://lh3.googleusercontent.com/a-/AOh14GguTe6RzHn_U3fJiBvOUKqS-pIAECOWzntUrI3x=s64",
      "userId": "17465126926677917374"
     },
     "user_tz": -330
    },
    "id": "etoiKCuI1bbt",
    "outputId": "eb8e91ee-a006-4cef-de85-4b74452d4f90"
   },
   "outputs": [
    {
     "name": "stdout",
     "output_type": "stream",
     "text": [
      "Found 416 images belonging to 2 classes.\n"
     ]
    }
   ],
   "source": [
    "training_set = train_datagen.flow_from_directory(train_path,\n",
    "                                                 target_size = (224, 224),\n",
    "                                                 batch_size = 32,\n",
    "                                                 class_mode = 'categorical')"
   ]
  },
  {
   "cell_type": "code",
   "execution_count": 16,
   "metadata": {
    "colab": {
     "base_uri": "https://localhost:8080/"
    },
    "executionInfo": {
     "elapsed": 6,
     "status": "ok",
     "timestamp": 1635575939691,
     "user": {
      "displayName": "laxman singh",
      "photoUrl": "https://lh3.googleusercontent.com/a-/AOh14GguTe6RzHn_U3fJiBvOUKqS-pIAECOWzntUrI3x=s64",
      "userId": "17465126926677917374"
     },
     "user_tz": -330
    },
    "id": "QKWSXhV21tH2",
    "outputId": "6bb31bc1-09be-4fbe-d352-d23094eb34f4"
   },
   "outputs": [
    {
     "name": "stdout",
     "output_type": "stream",
     "text": [
      "Found 134 images belonging to 2 classes.\n"
     ]
    }
   ],
   "source": [
    "test_set=test_datagen.flow_from_directory(test_path,\n",
    "                                          target_size = (224, 224),\n",
    "                                           batch_size = 32,\n",
    "                                            class_mode = 'categorical')"
   ]
  },
  {
   "cell_type": "code",
   "execution_count": null,
   "metadata": {
    "colab": {
     "base_uri": "https://localhost:8080/"
    },
    "executionInfo": {
     "elapsed": 359779,
     "status": "ok",
     "timestamp": 1635576299467,
     "user": {
      "displayName": "laxman singh",
      "photoUrl": "https://lh3.googleusercontent.com/a-/AOh14GguTe6RzHn_U3fJiBvOUKqS-pIAECOWzntUrI3x=s64",
      "userId": "17465126926677917374"
     },
     "user_tz": -330
    },
    "id": "elN-RNB7186C",
    "outputId": "05b3f7d8-b73d-4d2f-c985-78aa6ae056d2"
   },
   "outputs": [
    {
     "name": "stdout",
     "output_type": "stream",
     "text": [
      "Epoch 1/40\n",
      " 1/13 [=>............................] - ETA: 3:31 - loss: 1.3648 - accuracy: 0.3750"
     ]
    }
   ],
   "source": [
    "r = model.fit(\n",
    "  training_set,\n",
    "  validation_data=test_set,\n",
    "  epochs=40,\n",
    "  steps_per_epoch=len(training_set),\n",
    "  validation_steps=len(test_set)\n",
    ")"
   ]
  },
  {
   "cell_type": "code",
   "execution_count": null,
   "metadata": {
    "colab": {
     "base_uri": "https://localhost:8080/",
     "height": 281
    },
    "executionInfo": {
     "elapsed": 18,
     "status": "ok",
     "timestamp": 1635576299474,
     "user": {
      "displayName": "laxman singh",
      "photoUrl": "https://lh3.googleusercontent.com/a-/AOh14GguTe6RzHn_U3fJiBvOUKqS-pIAECOWzntUrI3x=s64",
      "userId": "17465126926677917374"
     },
     "user_tz": -330
    },
    "id": "R4sQ6L4P2OvI",
    "outputId": "c433a942-f759-4237-b5cb-8dbf2e9f4c7a"
   },
   "outputs": [],
   "source": [
    "plt.title('Loss')\n",
    "plt.plot(r.history['loss'], label='train loss')\n",
    "plt.plot(r.history['val_loss'], label='val loss')\n",
    "plt.legend()\n",
    "plt.show()"
   ]
  },
  {
   "cell_type": "code",
   "execution_count": null,
   "metadata": {
    "colab": {
     "base_uri": "https://localhost:8080/",
     "height": 281
    },
    "executionInfo": {
     "elapsed": 13,
     "status": "ok",
     "timestamp": 1635576299475,
     "user": {
      "displayName": "laxman singh",
      "photoUrl": "https://lh3.googleusercontent.com/a-/AOh14GguTe6RzHn_U3fJiBvOUKqS-pIAECOWzntUrI3x=s64",
      "userId": "17465126926677917374"
     },
     "user_tz": -330
    },
    "id": "WOeOXkCc5ULR",
    "outputId": "aa4bc529-6a65-4f8e-f0d8-fdce3a40887d"
   },
   "outputs": [],
   "source": [
    "plt.title('Accuracy')\n",
    "plt.plot(r.history['accuracy'],label='train accuracy')\n",
    "plt.plot(r.history['val_accuracy'],label='val accuracy')\n",
    "plt.legend()\n",
    "plt.show()"
   ]
  },
  {
   "cell_type": "code",
   "execution_count": null,
   "metadata": {
    "executionInfo": {
     "elapsed": 1840,
     "status": "ok",
     "timestamp": 1635576338792,
     "user": {
      "displayName": "laxman singh",
      "photoUrl": "https://lh3.googleusercontent.com/a-/AOh14GguTe6RzHn_U3fJiBvOUKqS-pIAECOWzntUrI3x=s64",
      "userId": "17465126926677917374"
     },
     "user_tz": -330
    },
    "id": "x4XMv4-Z6BTe"
   },
   "outputs": [],
   "source": [
    "model.save('model_vgg19.h5')"
   ]
  },
  {
   "cell_type": "code",
   "execution_count": null,
   "metadata": {
    "executionInfo": {
     "elapsed": 3527,
     "status": "ok",
     "timestamp": 1635576389416,
     "user": {
      "displayName": "laxman singh",
      "photoUrl": "https://lh3.googleusercontent.com/a-/AOh14GguTe6RzHn_U3fJiBvOUKqS-pIAECOWzntUrI3x=s64",
      "userId": "17465126926677917374"
     },
     "user_tz": -330
    },
    "id": "KpLFXbxx8krv"
   },
   "outputs": [],
   "source": [
    "y_pred=model.predict(test_set)"
   ]
  },
  {
   "cell_type": "code",
   "execution_count": null,
   "metadata": {
    "colab": {
     "base_uri": "https://localhost:8080/"
    },
    "executionInfo": {
     "elapsed": 547,
     "status": "ok",
     "timestamp": 1635576400950,
     "user": {
      "displayName": "laxman singh",
      "photoUrl": "https://lh3.googleusercontent.com/a-/AOh14GguTe6RzHn_U3fJiBvOUKqS-pIAECOWzntUrI3x=s64",
      "userId": "17465126926677917374"
     },
     "user_tz": -330
    },
    "id": "rQOvay-d8tFs",
    "outputId": "4c7da1da-2044-4f2d-ac9f-06e8850bf961"
   },
   "outputs": [],
   "source": [
    "y_pred"
   ]
  },
  {
   "cell_type": "code",
   "execution_count": null,
   "metadata": {
    "executionInfo": {
     "elapsed": 592,
     "status": "ok",
     "timestamp": 1635576472942,
     "user": {
      "displayName": "laxman singh",
      "photoUrl": "https://lh3.googleusercontent.com/a-/AOh14GguTe6RzHn_U3fJiBvOUKqS-pIAECOWzntUrI3x=s64",
      "userId": "17465126926677917374"
     },
     "user_tz": -330
    },
    "id": "6oKCtB4280ch"
   },
   "outputs": [],
   "source": [
    "y_pred = np.argmax(y_pred, axis=1)"
   ]
  },
  {
   "cell_type": "code",
   "execution_count": null,
   "metadata": {
    "executionInfo": {
     "elapsed": 524,
     "status": "ok",
     "timestamp": 1635576536031,
     "user": {
      "displayName": "laxman singh",
      "photoUrl": "https://lh3.googleusercontent.com/a-/AOh14GguTe6RzHn_U3fJiBvOUKqS-pIAECOWzntUrI3x=s64",
      "userId": "17465126926677917374"
     },
     "user_tz": -330
    },
    "id": "ks3omUO09GAX"
   },
   "outputs": [],
   "source": [
    "from tensorflow.keras.models import load_model\n",
    "model=load_model('model_vgg19.h5')"
   ]
  },
  {
   "cell_type": "code",
   "execution_count": null,
   "metadata": {
    "executionInfo": {
     "elapsed": 595,
     "status": "ok",
     "timestamp": 1635577103099,
     "user": {
      "displayName": "laxman singh",
      "photoUrl": "https://lh3.googleusercontent.com/a-/AOh14GguTe6RzHn_U3fJiBvOUKqS-pIAECOWzntUrI3x=s64",
      "userId": "17465126926677917374"
     },
     "user_tz": -330
    },
    "id": "ngUfxKXI9N4u"
   },
   "outputs": [],
   "source": [
    "img=image.load_img('Dataset/Test/Parasite/C39P4thinF_original_IMG_20150622_105554_cell_10.png',target_size=(224,224))"
   ]
  },
  {
   "cell_type": "code",
   "execution_count": null,
   "metadata": {
    "executionInfo": {
     "elapsed": 549,
     "status": "ok",
     "timestamp": 1635577105266,
     "user": {
      "displayName": "laxman singh",
      "photoUrl": "https://lh3.googleusercontent.com/a-/AOh14GguTe6RzHn_U3fJiBvOUKqS-pIAECOWzntUrI3x=s64",
      "userId": "17465126926677917374"
     },
     "user_tz": -330
    },
    "id": "WKaTvaiq9sLR"
   },
   "outputs": [],
   "source": [
    "x=image.img_to_array(img)"
   ]
  },
  {
   "cell_type": "code",
   "execution_count": null,
   "metadata": {
    "colab": {
     "base_uri": "https://localhost:8080/"
    },
    "executionInfo": {
     "elapsed": 8,
     "status": "ok",
     "timestamp": 1635577107507,
     "user": {
      "displayName": "laxman singh",
      "photoUrl": "https://lh3.googleusercontent.com/a-/AOh14GguTe6RzHn_U3fJiBvOUKqS-pIAECOWzntUrI3x=s64",
      "userId": "17465126926677917374"
     },
     "user_tz": -330
    },
    "id": "MPS_5Cyb9ydD",
    "outputId": "64f13a5d-2110-4e0b-a859-f3382fd756df"
   },
   "outputs": [],
   "source": [
    "x=x/255\n",
    "x"
   ]
  },
  {
   "cell_type": "code",
   "execution_count": null,
   "metadata": {
    "colab": {
     "base_uri": "https://localhost:8080/"
    },
    "executionInfo": {
     "elapsed": 9,
     "status": "ok",
     "timestamp": 1635577110342,
     "user": {
      "displayName": "laxman singh",
      "photoUrl": "https://lh3.googleusercontent.com/a-/AOh14GguTe6RzHn_U3fJiBvOUKqS-pIAECOWzntUrI3x=s64",
      "userId": "17465126926677917374"
     },
     "user_tz": -330
    },
    "id": "XhXp2IoW92i8",
    "outputId": "315d0c67-5011-4dbf-a9fa-5a39567df7dc"
   },
   "outputs": [],
   "source": [
    "from tensorflow.keras.applications.resnet50 import preprocess_input\n",
    "x=np.expand_dims(x,axis=0)\n",
    "img_data=preprocess_input(x)\n",
    "img_data.shape"
   ]
  },
  {
   "cell_type": "code",
   "execution_count": null,
   "metadata": {
    "colab": {
     "base_uri": "https://localhost:8080/"
    },
    "executionInfo": {
     "elapsed": 8,
     "status": "ok",
     "timestamp": 1635577111622,
     "user": {
      "displayName": "laxman singh",
      "photoUrl": "https://lh3.googleusercontent.com/a-/AOh14GguTe6RzHn_U3fJiBvOUKqS-pIAECOWzntUrI3x=s64",
      "userId": "17465126926677917374"
     },
     "user_tz": -330
    },
    "id": "hEPdPLv796N1",
    "outputId": "22e0f4f3-6726-46b2-bf5b-d9e0c786f72e"
   },
   "outputs": [],
   "source": [
    "model.predict(img_data)"
   ]
  },
  {
   "cell_type": "code",
   "execution_count": null,
   "metadata": {
    "executionInfo": {
     "elapsed": 4,
     "status": "ok",
     "timestamp": 1635577111623,
     "user": {
      "displayName": "laxman singh",
      "photoUrl": "https://lh3.googleusercontent.com/a-/AOh14GguTe6RzHn_U3fJiBvOUKqS-pIAECOWzntUrI3x=s64",
      "userId": "17465126926677917374"
     },
     "user_tz": -330
    },
    "id": "XZ4CcWEi-PnT"
   },
   "outputs": [],
   "source": [
    "a=np.argmax(model.predict(img_data), axis=1)"
   ]
  },
  {
   "cell_type": "code",
   "execution_count": null,
   "metadata": {
    "colab": {
     "base_uri": "https://localhost:8080/"
    },
    "executionInfo": {
     "elapsed": 5,
     "status": "ok",
     "timestamp": 1635577112648,
     "user": {
      "displayName": "laxman singh",
      "photoUrl": "https://lh3.googleusercontent.com/a-/AOh14GguTe6RzHn_U3fJiBvOUKqS-pIAECOWzntUrI3x=s64",
      "userId": "17465126926677917374"
     },
     "user_tz": -330
    },
    "id": "rLT2DAIP_CSW",
    "outputId": "be6c334e-2546-4f7a-d635-7eb93978ce35"
   },
   "outputs": [],
   "source": [
    "if(a==1):\n",
    "    print(\"Uninfected\")\n",
    "else:\n",
    "    print(\"Infected\")"
   ]
  }
 ],
 "metadata": {
  "accelerator": "GPU",
  "colab": {
   "authorship_tag": "ABX9TyO1nZkbeqVhnZfmnP7Mvg5l",
   "mount_file_id": "1PlRvra37BDaWaXR4F-tgFSepoBfqkyA6",
   "name": "Copy of Malaria Detection.ipynb",
   "provenance": [
    {
     "file_id": "1PlRvra37BDaWaXR4F-tgFSepoBfqkyA6",
     "timestamp": 1635577263639
    }
   ]
  },
  "kernelspec": {
   "display_name": "Python 3",
   "language": "python",
   "name": "python3"
  },
  "language_info": {
   "codemirror_mode": {
    "name": "ipython",
    "version": 3
   },
   "file_extension": ".py",
   "mimetype": "text/x-python",
   "name": "python",
   "nbconvert_exporter": "python",
   "pygments_lexer": "ipython3",
   "version": "3.9.7"
  }
 },
 "nbformat": 4,
 "nbformat_minor": 1
}
